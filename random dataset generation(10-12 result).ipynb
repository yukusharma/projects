{
 "cells": [
  {
   "cell_type": "markdown",
   "id": "cc881e62",
   "metadata": {},
   "source": [
    "# Generating and analyzing Random data:"
   ]
  },
  {
   "cell_type": "code",
   "execution_count": 1,
   "id": "5aa39b22",
   "metadata": {},
   "outputs": [],
   "source": [
    "# importing libraries:\n",
    "import pandas as pd\n",
    "import numpy as np\n",
    "import random as rn\n",
    "import matplotlib.pyplot as plt"
   ]
  },
  {
   "cell_type": "code",
   "execution_count": 2,
   "id": "ffb5226a",
   "metadata": {},
   "outputs": [],
   "source": [
    "# generating random data:\n",
    "def random_data(first_names,area,city,state,standard):\n",
    "    return{\n",
    "        'name': rn.choice(first_names)+,\n",
    "        'standard': rn.choice(standard),\n",
    "        'percentage': rn.randint(33,98),\n",
    "        'phone_number': f' {\"+91\"}{rn.randint(69,98)}{rn.randint(11111111,99999999)}',\n",
    "        'address': f' {\"H.No.\"}{rn.randint(1,200)}{\", \"}{rn.choice(area)}{\", \"}{rn.choice(city)}',\n",
    "        'state': rn.choice(state),\n",
    "        'Parent_name': rn.choice(first_names)\n",
    "    }\n",
    "first_names=[\"Ashu \",\"Bhavi \",\"Chhavi \",\"Demon \",\"Elite \",\"Falak \",\"Gauri \",\"Hetal \",\"Itu \",\"John \",\"Ken \",\"Lalit \",\"Maxima \",\n",
    "             \"Nitu \",\"Ojas \",\"Pearl \",\"Quareshi \",\"Rishi \",\"Sujal \",\"Teena \",\"Uttu \",\"Vipul \",\"Wapal \",\"Xeron \",\"Yash \",\"Zen \"]\n",
    "area=['TN','RN','MN','DN','BN','CN','RI','FG','UH','JD']\n",
    "city=['ddn','hrd','hld','blb','frd','dl','ml']\n",
    "state=['AP','HP','UP','UK','HR','PB','TN','KR']\n",
    "standard=[10,12]\n",
    "data= [random_data(first_names,area,city,state,standard) for i in range(100)]\n"
   ]
  },
  {
   "cell_type": "code",
   "execution_count": 3,
   "id": "9ef2657d",
   "metadata": {
    "scrolled": false
   },
   "outputs": [
    {
     "data": {
      "text/html": [
       "<div>\n",
       "<style scoped>\n",
       "    .dataframe tbody tr th:only-of-type {\n",
       "        vertical-align: middle;\n",
       "    }\n",
       "\n",
       "    .dataframe tbody tr th {\n",
       "        vertical-align: top;\n",
       "    }\n",
       "\n",
       "    .dataframe thead th {\n",
       "        text-align: right;\n",
       "    }\n",
       "</style>\n",
       "<table border=\"1\" class=\"dataframe\">\n",
       "  <thead>\n",
       "    <tr style=\"text-align: right;\">\n",
       "      <th></th>\n",
       "      <th>name</th>\n",
       "      <th>standard</th>\n",
       "      <th>percentage</th>\n",
       "      <th>phone_number</th>\n",
       "      <th>address</th>\n",
       "      <th>state</th>\n",
       "      <th>Parent_name</th>\n",
       "    </tr>\n",
       "  </thead>\n",
       "  <tbody>\n",
       "    <tr>\n",
       "      <th>0</th>\n",
       "      <td>Gauri</td>\n",
       "      <td>10</td>\n",
       "      <td>37</td>\n",
       "      <td>+919017055114</td>\n",
       "      <td>H.No.14, MN, blb</td>\n",
       "      <td>PB</td>\n",
       "      <td>John</td>\n",
       "    </tr>\n",
       "    <tr>\n",
       "      <th>1</th>\n",
       "      <td>Hetal</td>\n",
       "      <td>12</td>\n",
       "      <td>98</td>\n",
       "      <td>+919635102709</td>\n",
       "      <td>H.No.25, UH, blb</td>\n",
       "      <td>KR</td>\n",
       "      <td>Zen</td>\n",
       "    </tr>\n",
       "    <tr>\n",
       "      <th>2</th>\n",
       "      <td>Chhavi</td>\n",
       "      <td>10</td>\n",
       "      <td>61</td>\n",
       "      <td>+917118741243</td>\n",
       "      <td>H.No.189, MN, frd</td>\n",
       "      <td>HP</td>\n",
       "      <td>Demon</td>\n",
       "    </tr>\n",
       "    <tr>\n",
       "      <th>3</th>\n",
       "      <td>Demon</td>\n",
       "      <td>12</td>\n",
       "      <td>42</td>\n",
       "      <td>+917420003348</td>\n",
       "      <td>H.No.81, CN, blb</td>\n",
       "      <td>AP</td>\n",
       "      <td>Gauri</td>\n",
       "    </tr>\n",
       "    <tr>\n",
       "      <th>4</th>\n",
       "      <td>Teena</td>\n",
       "      <td>12</td>\n",
       "      <td>59</td>\n",
       "      <td>+919618507230</td>\n",
       "      <td>H.No.13, CN, hrd</td>\n",
       "      <td>HR</td>\n",
       "      <td>Demon</td>\n",
       "    </tr>\n",
       "    <tr>\n",
       "      <th>...</th>\n",
       "      <td>...</td>\n",
       "      <td>...</td>\n",
       "      <td>...</td>\n",
       "      <td>...</td>\n",
       "      <td>...</td>\n",
       "      <td>...</td>\n",
       "      <td>...</td>\n",
       "    </tr>\n",
       "    <tr>\n",
       "      <th>95</th>\n",
       "      <td>Elite</td>\n",
       "      <td>10</td>\n",
       "      <td>48</td>\n",
       "      <td>+917637322147</td>\n",
       "      <td>H.No.133, JD, ddn</td>\n",
       "      <td>HP</td>\n",
       "      <td>Chhavi</td>\n",
       "    </tr>\n",
       "    <tr>\n",
       "      <th>96</th>\n",
       "      <td>Chhavi</td>\n",
       "      <td>10</td>\n",
       "      <td>51</td>\n",
       "      <td>+919084072131</td>\n",
       "      <td>H.No.151, RN, blb</td>\n",
       "      <td>HR</td>\n",
       "      <td>Falak</td>\n",
       "    </tr>\n",
       "    <tr>\n",
       "      <th>97</th>\n",
       "      <td>Zen</td>\n",
       "      <td>10</td>\n",
       "      <td>50</td>\n",
       "      <td>+919565089315</td>\n",
       "      <td>H.No.3, FG, ml</td>\n",
       "      <td>UP</td>\n",
       "      <td>Hetal</td>\n",
       "    </tr>\n",
       "    <tr>\n",
       "      <th>98</th>\n",
       "      <td>Chhavi</td>\n",
       "      <td>10</td>\n",
       "      <td>45</td>\n",
       "      <td>+917968952732</td>\n",
       "      <td>H.No.18, TN, hld</td>\n",
       "      <td>TN</td>\n",
       "      <td>Uttu</td>\n",
       "    </tr>\n",
       "    <tr>\n",
       "      <th>99</th>\n",
       "      <td>Itu</td>\n",
       "      <td>10</td>\n",
       "      <td>59</td>\n",
       "      <td>+919880666115</td>\n",
       "      <td>H.No.98, JD, ml</td>\n",
       "      <td>PB</td>\n",
       "      <td>Hetal</td>\n",
       "    </tr>\n",
       "  </tbody>\n",
       "</table>\n",
       "<p>100 rows × 7 columns</p>\n",
       "</div>"
      ],
      "text/plain": [
       "       name  standard  percentage    phone_number             address state  \\\n",
       "0    Gauri         10          37   +919017055114    H.No.14, MN, blb    PB   \n",
       "1    Hetal         12          98   +919635102709    H.No.25, UH, blb    KR   \n",
       "2   Chhavi         10          61   +917118741243   H.No.189, MN, frd    HP   \n",
       "3    Demon         12          42   +917420003348    H.No.81, CN, blb    AP   \n",
       "4    Teena         12          59   +919618507230    H.No.13, CN, hrd    HR   \n",
       "..      ...       ...         ...             ...                 ...   ...   \n",
       "95   Elite         10          48   +917637322147   H.No.133, JD, ddn    HP   \n",
       "96  Chhavi         10          51   +919084072131   H.No.151, RN, blb    HR   \n",
       "97     Zen         10          50   +919565089315      H.No.3, FG, ml    UP   \n",
       "98  Chhavi         10          45   +917968952732    H.No.18, TN, hld    TN   \n",
       "99     Itu         10          59   +919880666115     H.No.98, JD, ml    PB   \n",
       "\n",
       "   Parent_name  \n",
       "0        John   \n",
       "1         Zen   \n",
       "2       Demon   \n",
       "3       Gauri   \n",
       "4       Demon   \n",
       "..         ...  \n",
       "95     Chhavi   \n",
       "96      Falak   \n",
       "97      Hetal   \n",
       "98       Uttu   \n",
       "99      Hetal   \n",
       "\n",
       "[100 rows x 7 columns]"
      ]
     },
     "execution_count": 3,
     "metadata": {},
     "output_type": "execute_result"
    }
   ],
   "source": [
    "# forming dataframe:\n",
    "data=pd.DataFrame(data)\n",
    "data"
   ]
  },
  {
   "cell_type": "code",
   "execution_count": 6,
   "id": "89e0d19c",
   "metadata": {},
   "outputs": [
    {
     "ename": "ValueError",
     "evalue": "The truth value of a Series is ambiguous. Use a.empty, a.bool(), a.item(), a.any() or a.all().",
     "output_type": "error",
     "traceback": [
      "\u001b[0;31m---------------------------------------------------------------------------\u001b[0m",
      "\u001b[0;31mValueError\u001b[0m                                Traceback (most recent call last)",
      "\u001b[0;32m/var/folders/1t/r5xz3529617694byqz6snlhh0000gn/T/ipykernel_85567/1198040645.py\u001b[0m in \u001b[0;36m?\u001b[0;34m()\u001b[0m\n\u001b[1;32m      1\u001b[0m \u001b[0;31m# Data Preprocessing:\u001b[0m\u001b[0;34m\u001b[0m\u001b[0;34m\u001b[0m\u001b[0m\n\u001b[0;32m----> 2\u001b[0;31m \u001b[0;32mif\u001b[0m \u001b[0mdata\u001b[0m\u001b[0;34m[\u001b[0m\u001b[0;34m'name'\u001b[0m\u001b[0;34m]\u001b[0m\u001b[0;34m!=\u001b[0m\u001b[0mdata\u001b[0m\u001b[0;34m[\u001b[0m\u001b[0;34m'Parent_name'\u001b[0m\u001b[0;34m]\u001b[0m\u001b[0;34m:\u001b[0m\u001b[0;34m\u001b[0m\u001b[0;34m\u001b[0m\u001b[0m\n\u001b[0m\u001b[1;32m      3\u001b[0m     \u001b[0mPass\u001b[0m\u001b[0;34m\u001b[0m\u001b[0;34m\u001b[0m\u001b[0m\n",
      "\u001b[0;32m~/anaconda3/lib/python3.11/site-packages/pandas/core/generic.py\u001b[0m in \u001b[0;36m?\u001b[0;34m(self)\u001b[0m\n\u001b[1;32m   1517\u001b[0m     \u001b[0;34m@\u001b[0m\u001b[0mfinal\u001b[0m\u001b[0;34m\u001b[0m\u001b[0;34m\u001b[0m\u001b[0m\n\u001b[1;32m   1518\u001b[0m     \u001b[0;32mdef\u001b[0m \u001b[0m__nonzero__\u001b[0m\u001b[0;34m(\u001b[0m\u001b[0mself\u001b[0m\u001b[0;34m)\u001b[0m \u001b[0;34m->\u001b[0m \u001b[0mNoReturn\u001b[0m\u001b[0;34m:\u001b[0m\u001b[0;34m\u001b[0m\u001b[0;34m\u001b[0m\u001b[0m\n\u001b[0;32m-> 1519\u001b[0;31m         raise ValueError(\n\u001b[0m\u001b[1;32m   1520\u001b[0m             \u001b[0;34mf\"The truth value of a {type(self).__name__} is ambiguous. \"\u001b[0m\u001b[0;34m\u001b[0m\u001b[0;34m\u001b[0m\u001b[0m\n\u001b[1;32m   1521\u001b[0m             \u001b[0;34m\"Use a.empty, a.bool(), a.item(), a.any() or a.all().\"\u001b[0m\u001b[0;34m\u001b[0m\u001b[0;34m\u001b[0m\u001b[0m\n\u001b[1;32m   1522\u001b[0m         )\n",
      "\u001b[0;31mValueError\u001b[0m: The truth value of a Series is ambiguous. Use a.empty, a.bool(), a.item(), a.any() or a.all()."
     ]
    }
   ],
   "source": [
    "# Data Preprocessing:\n",
    "if data['name']!=data['Parent_name']:\n",
    "    "
   ]
  },
  {
   "cell_type": "code",
   "execution_count": 4,
   "id": "69d398dd",
   "metadata": {},
   "outputs": [],
   "source": [
    "# Filtering data:\n",
    "class_10= data[data.standard==10]\n",
    "class_12= data[data.standard==12]"
   ]
  },
  {
   "cell_type": "code",
   "execution_count": 10,
   "id": "9555532e",
   "metadata": {},
   "outputs": [
    {
     "name": "stdout",
     "output_type": "stream",
     "text": [
      "average percentage of class 10th: 59.88461538461539\n",
      "average percentage of class 12th: 69.97916666666667\n",
      "There is no outlier in the class 10th percentage\n",
      "There is no outlier in the class 12th percentage\n",
      "Percentage of class 10th lies btw: [33, 97]\n",
      "Percentage of class 12th lies btw: [35, 98]\n"
     ]
    }
   ],
   "source": [
    "# Performing statistical analysis:\n",
    "avg_10= class_10['percentage'].mean()\n",
    "avg_12= class_12['percentage'].mean()\n",
    "print(\"average percentage of class 10th:\", avg_10)\n",
    "print(\"average percentage of class 12th:\", avg_12)\n",
    "Q1=np.quantile(class_10['percentage'],0.25)\n",
    "Q2=np.quantile(class_10['percentage'],0.50)\n",
    "Q3=np.quantile(class_10['percentage'],0.75)\n",
    "IQR=Q3-Q1\n",
    "Maximum=class_10['percentage'].max()\n",
    "Minimum=class_10['percentage'].min()\n",
    "q1=np.quantile(class_12['percentage'],0.25)\n",
    "q2=np.quantile(class_12['percentage'],0.50)\n",
    "q3=np.quantile(class_12['percentage'],0.75)\n",
    "iqr=q3-q1\n",
    "maximum=class_12['percentage'].max()\n",
    "minimum=class_12['percentage'].min()\n",
    "if (Maximum > (Q3+1.5*IQR)) or (Minimum < (Q1-1.5*IQR)):\n",
    "    print(\"There are few outliers present in the class 10th percentage\")\n",
    "else:\n",
    "    print(\"There is no outlier in the class 10th percentage\")\n",
    "if (maximum > (q3+1.5*iqr)) or (minimum < (q1-1.5*iqr)):\n",
    "    print(\"There are few outliers present in the class 12th percentage\")\n",
    "else:\n",
    "    print(\"There is no outlier in the class 12th percentage\")\n",
    "print(\"Percentage of class 10th lies btw:\", [Minimum, Maximum])\n",
    "print(\"Percentage of class 12th lies btw:\", [minimum, maximum])"
   ]
  },
  {
   "cell_type": "code",
   "execution_count": 11,
   "id": "279877c2",
   "metadata": {},
   "outputs": [
    {
     "data": {
      "text/plain": [
       "<matplotlib.legend.Legend at 0x16fb0e1f310>"
      ]
     },
     "execution_count": 11,
     "metadata": {},
     "output_type": "execute_result"
    },
    {
     "data": {
      "image/png": "[encoded data removed]",
      "text/plain": [
       "<Figure size 640x480 with 1 Axes>"
      ]
     },
     "metadata": {},
     "output_type": "display_data"
    }
   ],
   "source": [
    "# visualization of result:\n",
    "a= 10\n",
    "b= 12\n",
    "plt.bar(a, avg_10, width=1.0, color='r', label= 'class_10')\n",
    "plt.bar(b, avg_12, width=1.0, color='b', label= 'class_12')\n",
    "plt.xticks([10, 12])\n",
    "if maximum>Maximum:\n",
    "    y2=maximum\n",
    "else:\n",
    "    y2=Maximum\n",
    "if minimum<Minimum:\n",
    "    y1=minimum\n",
    "else: \n",
    "    y1=Minimum\n",
    "plt.ylim(y1, y2)\n",
    "plt.title(\"10th result Vs 12th result\")\n",
    "plt.xlabel(\"standard\")\n",
    "plt.ylabel(\"average percentage\")\n",
    "plt.legend()"
   ]
  }
 ],
 "metadata": {
  "kernelspec": {
   "display_name": "Python 3 (ipykernel)",
   "language": "python",
   "name": "python3"
  },
  "language_info": {
   "codemirror_mode": {
    "name": "ipython",
    "version": 3
   },
   "file_extension": ".py",
   "mimetype": "text/x-python",
   "name": "python",
   "nbconvert_exporter": "python",
   "pygments_lexer": "ipython3",
   "version": "3.11.5"
  }
 },
 "nbformat": 4,
 "nbformat_minor": 5
}
