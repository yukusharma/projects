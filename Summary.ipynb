{
  "nbformat": 4,
  "nbformat_minor": 0,
  "metadata": {
    "colab": {
      "provenance": []
    },
    "kernelspec": {
      "name": "python3",
      "display_name": "Python 3"
    },
    "language_info": {
      "name": "python"
    }
  },
  "cells": [
    {
      "cell_type": "code",
      "source": [
        "pip install youtube-transcript-api\n"
      ],
      "metadata": {
        "id": "oaC0MLS7zwAu"
      },
      "execution_count": null,
      "outputs": []
    },
    {
      "cell_type": "code",
      "execution_count": null,
      "metadata": {
        "id": "JpfxcoY1yJTz"
      },
      "outputs": [],
      "source": [
        "from youtube_transcript_api import YouTubeTranscriptApi\n",
        "\n",
        "video_id = \"CphVOnBUkg4\"\n",
        "transcript = YouTubeTranscriptApi.get_transcript(video_id)\n",
        "\n",
        "# Create a variable to store the text entries\n",
        "paragraph = \"\"\n",
        "\n",
        "# Accumulate the text entries in the variable\n",
        "for entry in transcript:\n",
        "    paragraph += entry['text'] + ' '\n",
        "\n",
        "# Print the paragraph\n",
        "print(paragraph)\n"
      ]
    },
    {
      "cell_type": "code",
      "source": [
        "from youtube_transcript_api import YouTubeTranscriptApi\n",
        "\n",
        "video_id = \"CphVOnBUkg4\"\n",
        "transcript = YouTubeTranscriptApi.get_transcript(video_id)\n",
        "\n",
        "# Create a list to store the text entries\n",
        "text_entries = [entry['text'] for entry in transcript]\n",
        "\n",
        "# Join the list into a paragraph\n",
        "paragraph = ' '.join(text_entries)\n",
        "\n",
        "# Print the paragraph\n",
        "print(paragraph)\n"
      ],
      "metadata": {
        "id": "pyTjpV4dzqt3"
      },
      "execution_count": null,
      "outputs": []
    },
    {
      "cell_type": "code",
      "source": [],
      "metadata": {
        "id": "6QzUnvU9ztVp"
      },
      "execution_count": null,
      "outputs": []
    }
  ]
}