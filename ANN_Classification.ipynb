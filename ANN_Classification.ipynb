{
  "cells": [
    {
      "cell_type": "code",
      "execution_count": null,
      "metadata": {
        "id": "DcpK3Q4O-iAd"
      },
      "outputs": [],
      "source": [
        "!mkdir -p ~/.kaggle\n",
        "!cp kaggle.json ~/.kaggle/"
      ]
    },
    {
      "cell_type": "code",
      "execution_count": null,
      "metadata": {
        "id": "FXW5RqO2k12A"
      },
      "outputs": [],
      "source": [
        "a=!kaggle datasets download -d tharun369/dogs-vs-cats"
      ]
    },
    {
      "cell_type": "code",
      "execution_count": null,
      "metadata": {
        "id": "5RHrymWhASGL"
      },
      "outputs": [],
      "source": [
        "import tensorflow as tf\n",
        "from tensorflow import keras"
      ]
    },
    {
      "cell_type": "code",
      "execution_count": null,
      "metadata": {
        "id": "ppXBVIL0Bbrh"
      },
      "outputs": [],
      "source": [
        "import zipfile\n",
        "zip_ref=zipfile.ZipFile('/content/dogs-vs-cats.zip','r')\n",
        "zip_ref.extractall('/content')\n",
        "zip_ref.close()"
      ]
    },
    {
      "cell_type": "code",
      "execution_count": null,
      "metadata": {
        "colab": {
          "base_uri": "https://localhost:8080/"
        },
        "id": "vMfukhntBg6y",
        "outputId": "17370fa7-6338-4ab0-f828-ba951823d569"
      },
      "outputs": [
        {
          "output_type": "stream",
          "name": "stdout",
          "text": [
            "Found 8005 images belonging to 2 classes.\n"
          ]
        }
      ],
      "source": [
        "# Load and preprocess the data\n",
        "train_data = keras.preprocessing.image.ImageDataGenerator(rescale=1./255)\n",
        "train_set = train_data.flow_from_directory('/content/train',\n",
        "                                          target_size=(224, 224),\n",
        "                                          batch_size=32,\n",
        "                                          class_mode='binary')"
      ]
    },
    {
      "cell_type": "code",
      "execution_count": null,
      "metadata": {
        "id": "AeM9YCXsHDzG"
      },
      "outputs": [],
      "source": [
        "model = keras.Sequential([\n",
        "    keras.layers.Flatten(input_shape=(224, 224, 3)),\n",
        "    keras.layers.Dense(128, activation='relu'),\n",
        "    keras.layers.Dense(1, activation='sigmoid')\n",
        "])"
      ]
    },
    {
      "cell_type": "code",
      "execution_count": null,
      "metadata": {
        "id": "GmROX6HgH4DJ"
      },
      "outputs": [],
      "source": [
        "model.compile(optimizer='adam',\n",
        "              loss='binary_crossentropy',\n",
        "              metrics=['accuracy'])"
      ]
    },
    {
      "cell_type": "code",
      "execution_count": null,
      "metadata": {
        "colab": {
          "base_uri": "https://localhost:8080/"
        },
        "id": "7NcdHauIIAOZ",
        "outputId": "88c4f321-26a2-4c7b-fd8f-23e6bf669475"
      },
      "outputs": [
        {
          "output_type": "stream",
          "name": "stdout",
          "text": [
            "Epoch 1/15\n",
            "251/251 [==============================] - 22s 65ms/step - loss: 5.7469 - accuracy: 0.5264\n",
            "Epoch 2/15\n",
            "251/251 [==============================] - 16s 65ms/step - loss: 2.2108 - accuracy: 0.5654\n",
            "Epoch 3/15\n",
            "251/251 [==============================] - 18s 71ms/step - loss: 2.3827 - accuracy: 0.5580\n",
            "Epoch 4/15\n",
            "251/251 [==============================] - 22s 90ms/step - loss: 1.2423 - accuracy: 0.5906\n",
            "Epoch 5/15\n",
            "251/251 [==============================] - 18s 70ms/step - loss: 1.1905 - accuracy: 0.5839\n",
            "Epoch 6/15\n",
            "251/251 [==============================] - 17s 69ms/step - loss: 0.8974 - accuracy: 0.6116\n",
            "Epoch 7/15\n",
            "251/251 [==============================] - 19s 74ms/step - loss: 0.8310 - accuracy: 0.6119\n",
            "Epoch 8/15\n",
            "251/251 [==============================] - 16s 65ms/step - loss: 0.6770 - accuracy: 0.6476\n",
            "Epoch 9/15\n",
            "251/251 [==============================] - 16s 65ms/step - loss: 0.6549 - accuracy: 0.6475\n",
            "Epoch 10/15\n",
            "251/251 [==============================] - 16s 66ms/step - loss: 0.6473 - accuracy: 0.6563\n",
            "Epoch 11/15\n",
            "251/251 [==============================] - 17s 66ms/step - loss: 0.6520 - accuracy: 0.6364\n",
            "Epoch 12/15\n",
            "251/251 [==============================] - 17s 67ms/step - loss: 0.6437 - accuracy: 0.6327\n",
            "Epoch 13/15\n",
            "251/251 [==============================] - 17s 66ms/step - loss: 0.6216 - accuracy: 0.6571\n",
            "Epoch 14/15\n",
            "251/251 [==============================] - 17s 69ms/step - loss: 0.6716 - accuracy: 0.5943\n",
            "Epoch 15/15\n",
            "251/251 [==============================] - 17s 67ms/step - loss: 0.6217 - accuracy: 0.6561\n"
          ]
        }
      ],
      "source": [
        "history = model.fit(train_set, epochs=15)\n"
      ]
    },
    {
      "cell_type": "code",
      "execution_count": null,
      "metadata": {
        "colab": {
          "base_uri": "https://localhost:8080/"
        },
        "id": "-DMqzfIZIEBr",
        "outputId": "7a2b0dd8-b01f-45a7-8a5f-dcc6391e9279"
      },
      "outputs": [
        {
          "output_type": "stream",
          "name": "stdout",
          "text": [
            "Found 2023 images belonging to 2 classes.\n",
            "64/64 [==============================] - 5s 68ms/step - loss: 0.6733 - accuracy: 0.6026\n",
            "Test loss: 0.6732685565948486\n",
            "Test accuracy: 0.6025704145431519\n"
          ]
        }
      ],
      "source": [
        "# Evaluate the model on the test set\n",
        "test_data = keras.preprocessing.image.ImageDataGenerator(rescale=1./255)\n",
        "test_set = test_data.flow_from_directory('//content/test',\n",
        "                                        target_size=(224, 224),\n",
        "                                        batch_size=32,\n",
        "                                        class_mode='binary')\n",
        "\n",
        "test_loss, test_accuracy = model.evaluate(test_set)\n",
        "print(f'Test loss: {test_loss}')\n",
        "print(f'Test accuracy: {test_accuracy}')\n"
      ]
    },
    {
      "cell_type": "code",
      "source": [
        "import matplotlib.pyplot as plt\n",
        "\n",
        "plt.plot(history.history['accuracy'],color='red',label='accuracy')\n",
        "plt.legend()\n",
        "\n",
        "plt.show()\n",
        "\n",
        "plt.plot(history.history['loss'],color='red',label='loss')\n",
        "plt.legend()\n",
        "plt.show()"
      ],
      "metadata": {
        "colab": {
          "base_uri": "https://localhost:8080/",
          "height": 848
        },
        "id": "ALjIKjBBOChw",
        "outputId": "25b13854-0fa2-4621-a3ce-80056fe9768f"
      },
      "execution_count": null,
      "outputs": [
        {
          "output_type": "display_data",
          "data": {
            "text/plain": [
              "<Figure size 640x480 with 1 Axes>"
            ],
            "image/png": "[encoded data removed]"
          },
          "metadata": {}
        },
        {
          "output_type": "display_data",
          "data": {
            "text/plain": [
              "<Figure size 640x480 with 1 Axes>"
            ],
            "image/png": "[encoded data removed]"
          },
          "metadata": {}
        }
      ]
    },
    {
      "cell_type": "code",
      "execution_count": null,
      "metadata": {
        "id": "UcnvsQyYM2gD",
        "colab": {
          "base_uri": "https://localhost:8080/"
        },
        "outputId": "8c41fcae-5c12-499a-a40e-b315b6460408"
      },
      "outputs": [
        {
          "output_type": "stream",
          "name": "stdout",
          "text": [
            "Enter the path of image: /content/test/cats/cat.4004.jpg\n",
            "1/1 [==============================] - 0s 72ms/step\n",
            "It's a Cat!\n"
          ]
        }
      ],
      "source": [
        "# Load and preprocess a single image\n",
        "from tensorflow.keras.preprocessing import image\n",
        "import numpy as np\n",
        "\n",
        "img_path = str(input(\"Enter the path of image: \"))  # Replace with the actual path to the image you want to classify\n",
        "\n",
        "img = image.load_img(img_path, target_size=(224, 224))\n",
        "img = image.img_to_array(img)\n",
        "img = np.expand_dims(img, axis=0)\n",
        "img = img/255.  # Normalize the image\n",
        "\n",
        "# Get the model's prediction for the image\n",
        "prediction = model.predict(img)\n",
        "\n",
        "# Interpret the prediction\n",
        "if prediction[0][0] > 0.5:\n",
        "    print(\"It's a Dog!\")\n",
        "else:\n",
        "    print(\"It's a Cat!\")"
      ]
    },
    {
      "cell_type": "code",
      "execution_count": null,
      "metadata": {
        "id": "Sb0dMb8_b2_2"
      },
      "outputs": [],
      "source": []
    }
  ],
  "metadata": {
    "colab": {
      "provenance": [],
      "gpuType": "T4"
    },
    "kernelspec": {
      "display_name": "Python 3",
      "name": "python3"
    },
    "language_info": {
      "name": "python"
    },
    "accelerator": "GPU"
  },
  "nbformat": 4,
  "nbformat_minor": 0
}