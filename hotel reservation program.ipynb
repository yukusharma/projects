{
 "cells": [
  {
   "cell_type": "markdown",
   "id": "d502ef0c",
   "metadata": {},
   "source": [
    "# Reading file:"
   ]
  },
  {
   "cell_type": "code",
   "execution_count": 1,
   "id": "8820b39b",
   "metadata": {},
   "outputs": [],
   "source": [
    "import pandas as pd\n",
    "import warnings\n",
    "warnings.filterwarnings('ignore')\n",
    "df=pd.read_csv(\"Hotel Reservations.csv\")"
   ]
  },
  {
   "cell_type": "markdown",
   "id": "4fe91922",
   "metadata": {},
   "source": [
    "# Check for and remove null values:"
   ]
  },
  {
   "cell_type": "code",
   "execution_count": 2,
   "id": "d3099af0",
   "metadata": {},
   "outputs": [
    {
     "name": "stdout",
     "output_type": "stream",
     "text": [
      "<class 'pandas.core.frame.DataFrame'>\n",
      "RangeIndex: 36275 entries, 0 to 36274\n",
      "Data columns (total 19 columns):\n",
      " #   Column                                Non-Null Count  Dtype  \n",
      "---  ------                                --------------  -----  \n",
      " 0   Booking_ID                            36275 non-null  object \n",
      " 1   no_of_adults                          36275 non-null  int64  \n",
      " 2   no_of_children                        36275 non-null  int64  \n",
      " 3   no_of_weekend_nights                  36275 non-null  int64  \n",
      " 4   no_of_week_nights                     36275 non-null  int64  \n",
      " 5   type_of_meal_plan                     36275 non-null  object \n",
      " 6   required_car_parking_space            36275 non-null  int64  \n",
      " 7   room_type_reserved                    36275 non-null  object \n",
      " 8   lead_time                             36275 non-null  int64  \n",
      " 9   arrival_year                          36275 non-null  int64  \n",
      " 10  arrival_month                         36275 non-null  int64  \n",
      " 11  arrival_date                          36275 non-null  int64  \n",
      " 12  market_segment_type                   36275 non-null  object \n",
      " 13  repeated_guest                        36275 non-null  int64  \n",
      " 14  no_of_previous_cancellations          36275 non-null  int64  \n",
      " 15  no_of_previous_bookings_not_canceled  36275 non-null  int64  \n",
      " 16  avg_price_per_room                    36275 non-null  float64\n",
      " 17  no_of_special_requests                36275 non-null  int64  \n",
      " 18  booking_status                        36275 non-null  object \n",
      "dtypes: float64(1), int64(13), object(5)\n",
      "memory usage: 5.3+ MB\n"
     ]
    },
    {
     "data": {
      "text/html": [
       "<div>\n",
       "<style scoped>\n",
       "    .dataframe tbody tr th:only-of-type {\n",
       "        vertical-align: middle;\n",
       "    }\n",
       "\n",
       "    .dataframe tbody tr th {\n",
       "        vertical-align: top;\n",
       "    }\n",
       "\n",
       "    .dataframe thead th {\n",
       "        text-align: right;\n",
       "    }\n",
       "</style>\n",
       "<table border=\"1\" class=\"dataframe\">\n",
       "  <thead>\n",
       "    <tr style=\"text-align: right;\">\n",
       "      <th></th>\n",
       "      <th>Booking_ID</th>\n",
       "      <th>no_of_adults</th>\n",
       "      <th>no_of_children</th>\n",
       "      <th>no_of_weekend_nights</th>\n",
       "      <th>no_of_week_nights</th>\n",
       "      <th>type_of_meal_plan</th>\n",
       "      <th>required_car_parking_space</th>\n",
       "      <th>room_type_reserved</th>\n",
       "      <th>lead_time</th>\n",
       "      <th>arrival_year</th>\n",
       "      <th>arrival_month</th>\n",
       "      <th>arrival_date</th>\n",
       "      <th>market_segment_type</th>\n",
       "      <th>repeated_guest</th>\n",
       "      <th>no_of_previous_cancellations</th>\n",
       "      <th>no_of_previous_bookings_not_canceled</th>\n",
       "      <th>avg_price_per_room</th>\n",
       "      <th>no_of_special_requests</th>\n",
       "      <th>booking_status</th>\n",
       "    </tr>\n",
       "  </thead>\n",
       "  <tbody>\n",
       "    <tr>\n",
       "      <th>0</th>\n",
       "      <td>INN00001</td>\n",
       "      <td>2</td>\n",
       "      <td>0</td>\n",
       "      <td>1</td>\n",
       "      <td>2</td>\n",
       "      <td>Meal Plan 1</td>\n",
       "      <td>0</td>\n",
       "      <td>Room_Type 1</td>\n",
       "      <td>224</td>\n",
       "      <td>2017</td>\n",
       "      <td>10</td>\n",
       "      <td>2</td>\n",
       "      <td>Offline</td>\n",
       "      <td>0</td>\n",
       "      <td>0</td>\n",
       "      <td>0</td>\n",
       "      <td>65.00</td>\n",
       "      <td>0</td>\n",
       "      <td>Not_Canceled</td>\n",
       "    </tr>\n",
       "    <tr>\n",
       "      <th>1</th>\n",
       "      <td>INN00002</td>\n",
       "      <td>2</td>\n",
       "      <td>0</td>\n",
       "      <td>2</td>\n",
       "      <td>3</td>\n",
       "      <td>Not Selected</td>\n",
       "      <td>0</td>\n",
       "      <td>Room_Type 1</td>\n",
       "      <td>5</td>\n",
       "      <td>2018</td>\n",
       "      <td>11</td>\n",
       "      <td>6</td>\n",
       "      <td>Online</td>\n",
       "      <td>0</td>\n",
       "      <td>0</td>\n",
       "      <td>0</td>\n",
       "      <td>106.68</td>\n",
       "      <td>1</td>\n",
       "      <td>Not_Canceled</td>\n",
       "    </tr>\n",
       "    <tr>\n",
       "      <th>2</th>\n",
       "      <td>INN00003</td>\n",
       "      <td>1</td>\n",
       "      <td>0</td>\n",
       "      <td>2</td>\n",
       "      <td>1</td>\n",
       "      <td>Meal Plan 1</td>\n",
       "      <td>0</td>\n",
       "      <td>Room_Type 1</td>\n",
       "      <td>1</td>\n",
       "      <td>2018</td>\n",
       "      <td>2</td>\n",
       "      <td>28</td>\n",
       "      <td>Online</td>\n",
       "      <td>0</td>\n",
       "      <td>0</td>\n",
       "      <td>0</td>\n",
       "      <td>60.00</td>\n",
       "      <td>0</td>\n",
       "      <td>Canceled</td>\n",
       "    </tr>\n",
       "    <tr>\n",
       "      <th>3</th>\n",
       "      <td>INN00004</td>\n",
       "      <td>2</td>\n",
       "      <td>0</td>\n",
       "      <td>0</td>\n",
       "      <td>2</td>\n",
       "      <td>Meal Plan 1</td>\n",
       "      <td>0</td>\n",
       "      <td>Room_Type 1</td>\n",
       "      <td>211</td>\n",
       "      <td>2018</td>\n",
       "      <td>5</td>\n",
       "      <td>20</td>\n",
       "      <td>Online</td>\n",
       "      <td>0</td>\n",
       "      <td>0</td>\n",
       "      <td>0</td>\n",
       "      <td>100.00</td>\n",
       "      <td>0</td>\n",
       "      <td>Canceled</td>\n",
       "    </tr>\n",
       "    <tr>\n",
       "      <th>4</th>\n",
       "      <td>INN00005</td>\n",
       "      <td>2</td>\n",
       "      <td>0</td>\n",
       "      <td>1</td>\n",
       "      <td>1</td>\n",
       "      <td>Not Selected</td>\n",
       "      <td>0</td>\n",
       "      <td>Room_Type 1</td>\n",
       "      <td>48</td>\n",
       "      <td>2018</td>\n",
       "      <td>4</td>\n",
       "      <td>11</td>\n",
       "      <td>Online</td>\n",
       "      <td>0</td>\n",
       "      <td>0</td>\n",
       "      <td>0</td>\n",
       "      <td>94.50</td>\n",
       "      <td>0</td>\n",
       "      <td>Canceled</td>\n",
       "    </tr>\n",
       "    <tr>\n",
       "      <th>...</th>\n",
       "      <td>...</td>\n",
       "      <td>...</td>\n",
       "      <td>...</td>\n",
       "      <td>...</td>\n",
       "      <td>...</td>\n",
       "      <td>...</td>\n",
       "      <td>...</td>\n",
       "      <td>...</td>\n",
       "      <td>...</td>\n",
       "      <td>...</td>\n",
       "      <td>...</td>\n",
       "      <td>...</td>\n",
       "      <td>...</td>\n",
       "      <td>...</td>\n",
       "      <td>...</td>\n",
       "      <td>...</td>\n",
       "      <td>...</td>\n",
       "      <td>...</td>\n",
       "      <td>...</td>\n",
       "    </tr>\n",
       "    <tr>\n",
       "      <th>36270</th>\n",
       "      <td>INN36271</td>\n",
       "      <td>3</td>\n",
       "      <td>0</td>\n",
       "      <td>2</td>\n",
       "      <td>6</td>\n",
       "      <td>Meal Plan 1</td>\n",
       "      <td>0</td>\n",
       "      <td>Room_Type 4</td>\n",
       "      <td>85</td>\n",
       "      <td>2018</td>\n",
       "      <td>8</td>\n",
       "      <td>3</td>\n",
       "      <td>Online</td>\n",
       "      <td>0</td>\n",
       "      <td>0</td>\n",
       "      <td>0</td>\n",
       "      <td>167.80</td>\n",
       "      <td>1</td>\n",
       "      <td>Not_Canceled</td>\n",
       "    </tr>\n",
       "    <tr>\n",
       "      <th>36271</th>\n",
       "      <td>INN36272</td>\n",
       "      <td>2</td>\n",
       "      <td>0</td>\n",
       "      <td>1</td>\n",
       "      <td>3</td>\n",
       "      <td>Meal Plan 1</td>\n",
       "      <td>0</td>\n",
       "      <td>Room_Type 1</td>\n",
       "      <td>228</td>\n",
       "      <td>2018</td>\n",
       "      <td>10</td>\n",
       "      <td>17</td>\n",
       "      <td>Online</td>\n",
       "      <td>0</td>\n",
       "      <td>0</td>\n",
       "      <td>0</td>\n",
       "      <td>90.95</td>\n",
       "      <td>2</td>\n",
       "      <td>Canceled</td>\n",
       "    </tr>\n",
       "    <tr>\n",
       "      <th>36272</th>\n",
       "      <td>INN36273</td>\n",
       "      <td>2</td>\n",
       "      <td>0</td>\n",
       "      <td>2</td>\n",
       "      <td>6</td>\n",
       "      <td>Meal Plan 1</td>\n",
       "      <td>0</td>\n",
       "      <td>Room_Type 1</td>\n",
       "      <td>148</td>\n",
       "      <td>2018</td>\n",
       "      <td>7</td>\n",
       "      <td>1</td>\n",
       "      <td>Online</td>\n",
       "      <td>0</td>\n",
       "      <td>0</td>\n",
       "      <td>0</td>\n",
       "      <td>98.39</td>\n",
       "      <td>2</td>\n",
       "      <td>Not_Canceled</td>\n",
       "    </tr>\n",
       "    <tr>\n",
       "      <th>36273</th>\n",
       "      <td>INN36274</td>\n",
       "      <td>2</td>\n",
       "      <td>0</td>\n",
       "      <td>0</td>\n",
       "      <td>3</td>\n",
       "      <td>Not Selected</td>\n",
       "      <td>0</td>\n",
       "      <td>Room_Type 1</td>\n",
       "      <td>63</td>\n",
       "      <td>2018</td>\n",
       "      <td>4</td>\n",
       "      <td>21</td>\n",
       "      <td>Online</td>\n",
       "      <td>0</td>\n",
       "      <td>0</td>\n",
       "      <td>0</td>\n",
       "      <td>94.50</td>\n",
       "      <td>0</td>\n",
       "      <td>Canceled</td>\n",
       "    </tr>\n",
       "    <tr>\n",
       "      <th>36274</th>\n",
       "      <td>INN36275</td>\n",
       "      <td>2</td>\n",
       "      <td>0</td>\n",
       "      <td>1</td>\n",
       "      <td>2</td>\n",
       "      <td>Meal Plan 1</td>\n",
       "      <td>0</td>\n",
       "      <td>Room_Type 1</td>\n",
       "      <td>207</td>\n",
       "      <td>2018</td>\n",
       "      <td>12</td>\n",
       "      <td>30</td>\n",
       "      <td>Offline</td>\n",
       "      <td>0</td>\n",
       "      <td>0</td>\n",
       "      <td>0</td>\n",
       "      <td>161.67</td>\n",
       "      <td>0</td>\n",
       "      <td>Not_Canceled</td>\n",
       "    </tr>\n",
       "  </tbody>\n",
       "</table>\n",
       "<p>36275 rows × 19 columns</p>\n",
       "</div>"
      ],
      "text/plain": [
       "      Booking_ID  no_of_adults  no_of_children  no_of_weekend_nights  \\\n",
       "0       INN00001             2               0                     1   \n",
       "1       INN00002             2               0                     2   \n",
       "2       INN00003             1               0                     2   \n",
       "3       INN00004             2               0                     0   \n",
       "4       INN00005             2               0                     1   \n",
       "...          ...           ...             ...                   ...   \n",
       "36270   INN36271             3               0                     2   \n",
       "36271   INN36272             2               0                     1   \n",
       "36272   INN36273             2               0                     2   \n",
       "36273   INN36274             2               0                     0   \n",
       "36274   INN36275             2               0                     1   \n",
       "\n",
       "       no_of_week_nights type_of_meal_plan  required_car_parking_space  \\\n",
       "0                      2       Meal Plan 1                           0   \n",
       "1                      3      Not Selected                           0   \n",
       "2                      1       Meal Plan 1                           0   \n",
       "3                      2       Meal Plan 1                           0   \n",
       "4                      1      Not Selected                           0   \n",
       "...                  ...               ...                         ...   \n",
       "36270                  6       Meal Plan 1                           0   \n",
       "36271                  3       Meal Plan 1                           0   \n",
       "36272                  6       Meal Plan 1                           0   \n",
       "36273                  3      Not Selected                           0   \n",
       "36274                  2       Meal Plan 1                           0   \n",
       "\n",
       "      room_type_reserved  lead_time  arrival_year  arrival_month  \\\n",
       "0            Room_Type 1        224          2017             10   \n",
       "1            Room_Type 1          5          2018             11   \n",
       "2            Room_Type 1          1          2018              2   \n",
       "3            Room_Type 1        211          2018              5   \n",
       "4            Room_Type 1         48          2018              4   \n",
       "...                  ...        ...           ...            ...   \n",
       "36270        Room_Type 4         85          2018              8   \n",
       "36271        Room_Type 1        228          2018             10   \n",
       "36272        Room_Type 1        148          2018              7   \n",
       "36273        Room_Type 1         63          2018              4   \n",
       "36274        Room_Type 1        207          2018             12   \n",
       "\n",
       "       arrival_date market_segment_type  repeated_guest  \\\n",
       "0                 2             Offline               0   \n",
       "1                 6              Online               0   \n",
       "2                28              Online               0   \n",
       "3                20              Online               0   \n",
       "4                11              Online               0   \n",
       "...             ...                 ...             ...   \n",
       "36270             3              Online               0   \n",
       "36271            17              Online               0   \n",
       "36272             1              Online               0   \n",
       "36273            21              Online               0   \n",
       "36274            30             Offline               0   \n",
       "\n",
       "       no_of_previous_cancellations  no_of_previous_bookings_not_canceled  \\\n",
       "0                                 0                                     0   \n",
       "1                                 0                                     0   \n",
       "2                                 0                                     0   \n",
       "3                                 0                                     0   \n",
       "4                                 0                                     0   \n",
       "...                             ...                                   ...   \n",
       "36270                             0                                     0   \n",
       "36271                             0                                     0   \n",
       "36272                             0                                     0   \n",
       "36273                             0                                     0   \n",
       "36274                             0                                     0   \n",
       "\n",
       "       avg_price_per_room  no_of_special_requests booking_status  \n",
       "0                   65.00                       0   Not_Canceled  \n",
       "1                  106.68                       1   Not_Canceled  \n",
       "2                   60.00                       0       Canceled  \n",
       "3                  100.00                       0       Canceled  \n",
       "4                   94.50                       0       Canceled  \n",
       "...                   ...                     ...            ...  \n",
       "36270              167.80                       1   Not_Canceled  \n",
       "36271               90.95                       2       Canceled  \n",
       "36272               98.39                       2   Not_Canceled  \n",
       "36273               94.50                       0       Canceled  \n",
       "36274              161.67                       0   Not_Canceled  \n",
       "\n",
       "[36275 rows x 19 columns]"
      ]
     },
     "execution_count": 2,
     "metadata": {},
     "output_type": "execute_result"
    }
   ],
   "source": [
    "df.info()\n",
    "df.dropna()"
   ]
  },
  {
   "cell_type": "markdown",
   "id": "4b8e5ac4",
   "metadata": {},
   "source": [
    "# Finding mean:"
   ]
  },
  {
   "cell_type": "code",
   "execution_count": 3,
   "id": "a130573d",
   "metadata": {},
   "outputs": [
    {
     "name": "stdout",
     "output_type": "stream",
     "text": [
      "average number of bookings in weekend nights is: 0.810723638869745\n",
      "or  0.810723638869745\n",
      "or  0.810723638869745\n",
      "average number of bookings in week nights is: 2.2043004824259134\n",
      "or  2.2043004824259134\n",
      "or  2.2043004824259134\n"
     ]
    }
   ],
   "source": [
    "# Can't use scipy.stats for mean\n",
    "# Method:1\n",
    "import statistics\n",
    "d=statistics.mean(df['no_of_weekend_nights'])\n",
    "e=statistics.mean(df['no_of_week_nights'])\n",
    "\n",
    "# Method:2\n",
    "s=df['no_of_weekend_nights'].mean()\n",
    "f=df['no_of_week_nights'].mean()\n",
    "\n",
    "\n",
    "# Method:3\n",
    "import numpy as np\n",
    "t=np.mean(df['no_of_weekend_nights'])\n",
    "g=np.mean(df['no_of_week_nights'])\n",
    "\n",
    "# results:\n",
    "print(\"average number of bookings in weekend nights is:\",d)\n",
    "print(\"or \",(s))\n",
    "print(\"or \",(t))\n",
    "print(\"average number of bookings in week nights is:\",e)\n",
    "print(\"or \",(f))\n",
    "print(\"or \",(g))"
   ]
  },
  {
   "cell_type": "markdown",
   "id": "7b955845",
   "metadata": {},
   "source": [
    "# Max and Min:"
   ]
  },
  {
   "cell_type": "code",
   "execution_count": 4,
   "id": "a82fb45d",
   "metadata": {},
   "outputs": [
    {
     "name": "stdout",
     "output_type": "stream",
     "text": [
      "maximum number of weekend nights booking on a booking i'd: 7\n",
      "minimum number of weekend nights booking on a booking i'd: 0\n",
      "maximum number of week nights booking on a booking i'd: 17\n",
      "minimum number of week nights booking on a booking i'd: 0\n"
     ]
    }
   ],
   "source": [
    "m=df['no_of_weekend_nights'].max()\n",
    "o=df['no_of_week_nights'].max()\n",
    "n=df['no_of_weekend_nights'].min()\n",
    "p=df['no_of_week_nights'].min()\n",
    "print(\"maximum number of weekend nights booking on a booking i'd:\",m)\n",
    "print(\"minimum number of weekend nights booking on a booking i'd:\",n)\n",
    "print(\"maximum number of week nights booking on a booking i'd:\",o)\n",
    "print(\"minimum number of week nights booking on a booking i'd:\",p)"
   ]
  },
  {
   "cell_type": "markdown",
   "id": "f7603506",
   "metadata": {},
   "source": [
    "# Median:"
   ]
  },
  {
   "cell_type": "code",
   "execution_count": 5,
   "id": "68ecb6fb",
   "metadata": {},
   "outputs": [
    {
     "name": "stdout",
     "output_type": "stream",
     "text": [
      "midde most value of the number of weekend nights is: 1.0  or  1.0  or  1\n"
     ]
    }
   ],
   "source": [
    "# can't use scipy.stats for median\n",
    "# Method:1\n",
    "r=np.median(df['no_of_weekend_nights'])\n",
    "\n",
    "# Method:2\n",
    "u=df['no_of_weekend_nights'].median()\n",
    "\n",
    "# Method: 3\n",
    "v=statistics.median(df['no_of_weekend_nights'])\n",
    "print(\"midde most value of the number of weekend nights is:\",r,\" or \",u,\" or \",v)"
   ]
  },
  {
   "cell_type": "markdown",
   "id": "6fd34148",
   "metadata": {},
   "source": [
    "# Mode:"
   ]
  },
  {
   "cell_type": "code",
   "execution_count": 6,
   "id": "4413b970",
   "metadata": {
    "scrolled": true
   },
   "outputs": [
    {
     "name": "stdout",
     "output_type": "stream",
     "text": [
      "maximum times, number of weekend nights booking are: 0    0\n",
      "Name: no_of_weekend_nights, dtype: int64\n",
      "or 0\n",
      "or  ModeResult(mode=0, count=16872)\n"
     ]
    }
   ],
   "source": [
    "# Can't use numpy for mode:\n",
    "# Method:1\n",
    "x=df['no_of_weekend_nights'].mode()\n",
    "print(\"maximum times, number of weekend nights booking are:\",x)\n",
    "\n",
    "# Method:2\n",
    "y=statistics.mode(df['no_of_weekend_nights'])\n",
    "print(\"or\",y)\n",
    "\n",
    "# Method:3\n",
    "import scipy.stats as sc\n",
    "z=sc.mode(df['no_of_weekend_nights'])\n",
    "print(\"or \",z)"
   ]
  },
  {
   "cell_type": "markdown",
   "id": "267fcfb1",
   "metadata": {},
   "source": [
    "# Standard Deviation:"
   ]
  },
  {
   "cell_type": "code",
   "execution_count": 7,
   "id": "1c4f36c1",
   "metadata": {},
   "outputs": [
    {
     "name": "stdout",
     "output_type": "stream",
     "text": [
      "variation in of no. of weekend nights:  0.8706436147600002\n",
      "or:  0.870631614076125\n"
     ]
    }
   ],
   "source": [
    "# Method:1\n",
    "w=statistics.stdev(df['no_of_weekend_nights'])\n",
    "print(\"variation in of no. of weekend nights: \",w)\n",
    "\n",
    "# Method:2\n",
    "import numpy as np\n",
    "a=np.std(df['no_of_weekend_nights'])\n",
    "print(\"or: \",a)"
   ]
  },
  {
   "cell_type": "markdown",
   "id": "dcddc00b",
   "metadata": {},
   "source": [
    "# Variance:"
   ]
  },
  {
   "cell_type": "code",
   "execution_count": 8,
   "id": "1ed357f5",
   "metadata": {},
   "outputs": [
    {
     "name": "stdout",
     "output_type": "stream",
     "text": [
      "variation from average of no. of weekend nights are:  0.7580203039223595\n",
      "or: 0.7579994074287986\n"
     ]
    }
   ],
   "source": [
    "# Method:1\n",
    "var=statistics.variance(df['no_of_weekend_nights'])\n",
    "print(\"variation from average of no. of weekend nights are: \",var)\n",
    "\n",
    "# Method:2\n",
    "var2=np.var(df['no_of_weekend_nights'])\n",
    "print(\"or:\",var2)"
   ]
  },
  {
   "cell_type": "markdown",
   "id": "6712f810",
   "metadata": {},
   "source": [
    "# Quantile:"
   ]
  },
  {
   "cell_type": "code",
   "execution_count": 9,
   "id": "155d6487",
   "metadata": {},
   "outputs": [
    {
     "name": "stdout",
     "output_type": "stream",
     "text": [
      "q0(number of weekend nights at 1st booking)= 0.0\n",
      "q1(no of weekend nights at 1st 25% of booking)= 0.0\n",
      "q2(no of weekend nights at 1st 50% of booking)= 1.0\n",
      "q3(no of weekend nights at 1st 75% of booking)= 2.0\n",
      "q4(no of weekend nights at 1st 100% of booking)= 7.0\n"
     ]
    }
   ],
   "source": [
    "import numpy as np\n",
    "q0=np.quantile(df['no_of_weekend_nights'], .00)\n",
    "q1=np.quantile(df['no_of_weekend_nights'], .25)\n",
    "q2=np.quantile(df['no_of_weekend_nights'], .50)\n",
    "q3=np.quantile(df['no_of_weekend_nights'], .75)\n",
    "q4=np.quantile(df['no_of_weekend_nights'], 1.00)\n",
    "print(\"q0(number of weekend nights at 1st booking)=\",q0)\n",
    "print(\"q1(no of weekend nights at 1st 25% of booking)=\",q1)\n",
    "print(\"q2(no of weekend nights at 1st 50% of booking)=\",q2)\n",
    "print(\"q3(no of weekend nights at 1st 75% of booking)=\",q3)\n",
    "print(\"q4(no of weekend nights at 1st 100% of booking)=\",q4)"
   ]
  },
  {
   "cell_type": "markdown",
   "id": "d11da0df",
   "metadata": {},
   "source": [
    "# Range:"
   ]
  },
  {
   "cell_type": "code",
   "execution_count": 10,
   "id": "85c353e3",
   "metadata": {},
   "outputs": [
    {
     "name": "stdout",
     "output_type": "stream",
     "text": [
      "The range of number of weekend nights booking is: 7\n",
      "The range of number of week nights booking is: 17\n"
     ]
    }
   ],
   "source": [
    "print(\"The range of number of weekend nights booking is:\",m-n)\n",
    "print(\"The range of number of week nights booking is:\",o-p)"
   ]
  },
  {
   "cell_type": "markdown",
   "id": "33af3fb0",
   "metadata": {},
   "source": [
    "# IQR:"
   ]
  },
  {
   "cell_type": "code",
   "execution_count": 11,
   "id": "7b751ea8",
   "metadata": {},
   "outputs": [
    {
     "name": "stdout",
     "output_type": "stream",
     "text": [
      "2.0\n"
     ]
    }
   ],
   "source": [
    "IQR=q3-q1\n",
    "print(IQR)"
   ]
  },
  {
   "cell_type": "markdown",
   "id": "66224aa2",
   "metadata": {},
   "source": [
    "# Mean Deviation:"
   ]
  },
  {
   "cell_type": "code",
   "execution_count": 12,
   "id": "8441d865",
   "metadata": {},
   "outputs": [
    {
     "name": "stdout",
     "output_type": "stream",
     "text": [
      "mean deviation of weekend nights bookings is: 0.754157366506428\n"
     ]
    }
   ],
   "source": [
    "md=statistics.mean(abs(df['no_of_weekend_nights']-statistics.mean(df['no_of_weekend_nights'])))\n",
    "print(\"mean deviation of weekend nights bookings is:\", md)"
   ]
  },
  {
   "cell_type": "markdown",
   "id": "afb053d9",
   "metadata": {},
   "source": [
    "# Skewness:"
   ]
  },
  {
   "cell_type": "code",
   "execution_count": 13,
   "id": "a93b41b3",
   "metadata": {
    "scrolled": true
   },
   "outputs": [
    {
     "name": "stdout",
     "output_type": "stream",
     "text": [
      "skewness in data for number of weekend nights booking is:\n",
      " 0.7376159576059308\n"
     ]
    }
   ],
   "source": [
    "sk=df['no_of_weekend_nights'].skew()\n",
    "print(\"skewness in data for number of weekend nights booking is:\\n\",sk)"
   ]
  },
  {
   "cell_type": "markdown",
   "id": "700bbe77",
   "metadata": {},
   "source": [
    "# Distribution plot"
   ]
  },
  {
   "cell_type": "code",
   "execution_count": 14,
   "id": "a2950601",
   "metadata": {},
   "outputs": [
    {
     "data": {
      "text/plain": [
       "<seaborn.axisgrid.FacetGrid at 0x17dbfbc90>"
      ]
     },
     "execution_count": 14,
     "metadata": {},
     "output_type": "execute_result"
    },
    {
     "data": {
      "image/png": "[encoded data removed]",
      "text/plain": [
       "<Figure size 500x500 with 1 Axes>"
      ]
     },
     "metadata": {},
     "output_type": "display_data"
    }
   ],
   "source": [
    "import seaborn as sns\n",
    "sns.displot(df['no_of_weekend_nights'])"
   ]
  },
  {
   "cell_type": "markdown",
   "id": "07302719",
   "metadata": {},
   "source": [
    "# Line graph"
   ]
  },
  {
   "cell_type": "code",
   "execution_count": 15,
   "id": "6761a794",
   "metadata": {
    "scrolled": false
   },
   "outputs": [
    {
     "name": "stdout",
     "output_type": "stream",
     "text": [
      "no_of_weekend_nights\n",
      "0    16872\n",
      "1     9995\n",
      "2     9071\n",
      "3      153\n",
      "4      129\n",
      "5       34\n",
      "6       20\n",
      "7        1\n",
      "Name: count, dtype: int64\n"
     ]
    },
    {
     "data": {
      "text/plain": [
       "<Axes: xlabel='no_of_weekend_nights', ylabel='count'>"
      ]
     },
     "execution_count": 15,
     "metadata": {},
     "output_type": "execute_result"
    },
    {
     "data": {
      "image/png": "[encoded data removed]",
      "text/plain": [
       "<Figure size 640x480 with 1 Axes>"
      ]
     },
     "metadata": {},
     "output_type": "display_data"
    }
   ],
   "source": [
    "count=df[\"no_of_weekend_nights\"].value_counts()\n",
    "print(count)\n",
    "sns.lineplot(x=\"no_of_weekend_nights\", y=count, data=df)"
   ]
  },
  {
   "cell_type": "markdown",
   "id": "2936a75e",
   "metadata": {},
   "source": [
    "# Histogram"
   ]
  },
  {
   "cell_type": "code",
   "execution_count": 16,
   "id": "76931b44",
   "metadata": {
    "scrolled": false
   },
   "outputs": [
    {
     "data": {
      "text/plain": [
       "<Axes: xlabel='no_of_weekend_nights', ylabel='Count'>"
      ]
     },
     "execution_count": 16,
     "metadata": {},
     "output_type": "execute_result"
    },
    {
     "data": {
      "image/png": "[encoded data removed]",
      "text/plain": [
       "<Figure size 640x480 with 1 Axes>"
      ]
     },
     "metadata": {},
     "output_type": "display_data"
    }
   ],
   "source": [
    "sns.histplot( df['no_of_weekend_nights'],bins=5)"
   ]
  },
  {
   "cell_type": "markdown",
   "id": "1b5bf9b5",
   "metadata": {},
   "source": [
    "# Distribution-histogram graph:"
   ]
  },
  {
   "cell_type": "code",
   "execution_count": 17,
   "id": "6aad6dfd",
   "metadata": {
    "scrolled": false
   },
   "outputs": [
    {
     "data": {
      "text/plain": [
       "<Axes: xlabel='no_of_weekend_nights', ylabel='Density'>"
      ]
     },
     "execution_count": 17,
     "metadata": {},
     "output_type": "execute_result"
    },
    {
     "data": {
      "image/png": "[encoded data removed]",
      "text/plain": [
       "<Figure size 640x480 with 1 Axes>"
      ]
     },
     "metadata": {},
     "output_type": "display_data"
    }
   ],
   "source": [
    "sns.distplot( df['no_of_weekend_nights'])"
   ]
  },
  {
   "cell_type": "markdown",
   "id": "180b3f3f",
   "metadata": {},
   "source": [
    "# Scatter plot:"
   ]
  },
  {
   "cell_type": "code",
   "execution_count": null,
   "id": "ec8e8117",
   "metadata": {},
   "outputs": [],
   "source": [
    "sns.scatterplot(df['no_of_weekend_nights'],df['Booking_ID'])"
   ]
  },
  {
   "cell_type": "markdown",
   "id": "7288003d",
   "metadata": {},
   "source": [
    "# regression plot"
   ]
  },
  {
   "cell_type": "code",
   "execution_count": null,
   "id": "d703b24a",
   "metadata": {},
   "outputs": [],
   "source": [
    "sns.regplot(df['no_of_weekend_nights'],df['Booking_ID'],fit_reg=False)"
   ]
  },
  {
   "cell_type": "markdown",
   "id": "80112bfe",
   "metadata": {},
   "source": [
    "# Box Plot:"
   ]
  },
  {
   "cell_type": "code",
   "execution_count": 50,
   "id": "742383a1",
   "metadata": {
    "scrolled": false
   },
   "outputs": [
    {
     "data": {
      "text/plain": [
       "<Axes: ylabel='no_of_weekend_nights'>"
      ]
     },
     "execution_count": 50,
     "metadata": {},
     "output_type": "execute_result"
    },
    {
     "data": {
      "image/png": "[encoded data removed]",
      "text/plain": [
       "<Figure size 640x480 with 1 Axes>"
      ]
     },
     "metadata": {},
     "output_type": "display_data"
    }
   ],
   "source": [
    "sns.boxplot(df['no_of_weekend_nights'])"
   ]
  },
  {
   "cell_type": "markdown",
   "id": "a62e7161",
   "metadata": {},
   "source": [
    "# Pie Plot:"
   ]
  },
  {
   "cell_type": "code",
   "execution_count": 51,
   "id": "03c98c7d",
   "metadata": {
    "scrolled": false
   },
   "outputs": [
    {
     "data": {
      "image/png": "[encoded data removed]",
      "text/plain": [
       "<Figure size 640x480 with 1 Axes>"
      ]
     },
     "metadata": {},
     "output_type": "display_data"
    }
   ],
   "source": [
    "import matplotlib.pyplot as plt\n",
    "plt.pie(df['no_of_weekend_nights'].value_counts().values, labels=df['no_of_weekend_nights'].value_counts())\n",
    "plt.legend()\n",
    "plt.show()"
   ]
  },
  {
   "cell_type": "markdown",
   "id": "3fefb32f",
   "metadata": {},
   "source": [
    "# kurtosis:"
   ]
  },
  {
   "cell_type": "code",
   "execution_count": 52,
   "id": "f768e46c",
   "metadata": {},
   "outputs": [
    {
     "name": "stdout",
     "output_type": "stream",
     "text": [
      "0.298650972379916\n"
     ]
    }
   ],
   "source": [
    "from scipy.stats import kurtosis\n",
    "kt=kurtosis(df['no_of_weekend_nights'], axis=0, bias=True)\n",
    "print(kt)"
   ]
  },
  {
   "cell_type": "markdown",
   "id": "92582fd0",
   "metadata": {},
   "source": [
    "# Correlation:"
   ]
  },
  {
   "cell_type": "code",
   "execution_count": 53,
   "id": "223c66e8",
   "metadata": {},
   "outputs": [
    {
     "name": "stdout",
     "output_type": "stream",
     "text": [
      "Correlation coefficient of number of weekend night bookings wrt to week night bookings is 0.17957676369298542\n"
     ]
    }
   ],
   "source": [
    "from scipy.stats import pearsonr as pr\n",
    "c,_=pr(df['no_of_weekend_nights'],df['no_of_week_nights'])\n",
    "print(\"Correlation coefficient of number of weekend night bookings wrt to week night bookings is\",c)"
   ]
  },
  {
   "cell_type": "markdown",
   "id": "b53dc46a",
   "metadata": {},
   "source": [
    "# Coefficient of variation:"
   ]
  },
  {
   "cell_type": "code",
   "execution_count": 54,
   "id": "9c1d2f49",
   "metadata": {},
   "outputs": [
    {
     "name": "stdout",
     "output_type": "stream",
     "text": [
      "variation in weekend night bookings= 107.39092497337212\n"
     ]
    }
   ],
   "source": [
    "cv=100*w/d\n",
    "print(\"variation in weekend night bookings=\",cv)"
   ]
  },
  {
   "cell_type": "markdown",
   "id": "1fd3b264",
   "metadata": {},
   "source": [
    "# Data of maximum booking on weekend nights:"
   ]
  },
  {
   "cell_type": "code",
   "execution_count": 55,
   "id": "c3007596",
   "metadata": {},
   "outputs": [
    {
     "name": "stdout",
     "output_type": "stream",
     "text": [
      "data with maximum bookings on weekend nights:\n",
      "      Booking_ID  no_of_adults  no_of_children  no_of_weekend_nights  \\\n",
      "19512   INN19513             2               0                     7   \n",
      "\n",
      "       no_of_week_nights type_of_meal_plan  required_car_parking_space  \\\n",
      "19512                 17       Meal Plan 1                           0   \n",
      "\n",
      "      room_type_reserved  lead_time  arrival_year  arrival_month  \\\n",
      "19512        Room_Type 1        188          2018              7   \n",
      "\n",
      "       arrival_date market_segment_type  repeated_guest  \\\n",
      "19512             4              Online               0   \n",
      "\n",
      "       no_of_previous_cancellations  no_of_previous_bookings_not_canceled  \\\n",
      "19512                             0                                     0   \n",
      "\n",
      "       avg_price_per_room  no_of_special_requests booking_status  \n",
      "19512               90.95                       1       Canceled  \n"
     ]
    }
   ],
   "source": [
    "yy=df['no_of_weekend_nights'].max()\n",
    "data=df[df['no_of_weekend_nights']==yy]\n",
    "print(\"data with maximum bookings on weekend nights:\")\n",
    "print(data)"
   ]
  },
  {
   "cell_type": "markdown",
   "id": "b3f8e98c",
   "metadata": {},
   "source": [
    "# Percentile:"
   ]
  },
  {
   "cell_type": "code",
   "execution_count": 56,
   "id": "a9e8e93d",
   "metadata": {},
   "outputs": [
    {
     "name": "stdout",
     "output_type": "stream",
     "text": [
      "no of weekend nights on 1st half data= 1.0\n",
      "no of weekend nights on full data= 1.0\n"
     ]
    }
   ],
   "source": [
    "p1=np.percentile(df['no_of_weekend_nights'],50)\n",
    "p2=np.percentile(df['no_of_weekend_nights'],100)\n",
    "print(\"no of weekend nights on 1st half data=\",p1)\n",
    "print(\"no of weekend nights on full data=\",p1)"
   ]
  },
  {
   "cell_type": "code",
   "execution_count": null,
   "id": "ff98f1eb",
   "metadata": {},
   "outputs": [],
   "source": []
  }
 ],
 "metadata": {
  "kernelspec": {
   "display_name": "Python 3 (ipykernel)",
   "language": "python",
   "name": "python3"
  },
  "language_info": {
   "codemirror_mode": {
    "name": "ipython",
    "version": 3
   },
   "file_extension": ".py",
   "mimetype": "text/x-python",
   "name": "python",
   "nbconvert_exporter": "python",
   "pygments_lexer": "ipython3",
   "version": "3.11.5"
  }
 },
 "nbformat": 4,
 "nbformat_minor": 5
}
